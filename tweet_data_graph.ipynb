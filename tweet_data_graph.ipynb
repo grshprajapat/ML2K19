{
  "nbformat": 4,
  "nbformat_minor": 0,
  "metadata": {
    "colab": {
      "name": "tweet_data_graph.ipynb",
      "version": "0.3.2",
      "provenance": [],
      "include_colab_link": true
    },
    "kernelspec": {
      "name": "python3",
      "display_name": "Python 3"
    }
  },
  "cells": [
    {
      "cell_type": "markdown",
      "metadata": {
        "id": "view-in-github",
        "colab_type": "text"
      },
      "source": [
        "<a href=\"https://colab.research.google.com/github/grshprajapat/ML2K19/blob/master/tweet_data_graph.ipynb\" target=\"_parent\"><img src=\"https://colab.research.google.com/assets/colab-badge.svg\" alt=\"Open In Colab\"/></a>"
      ]
    },
    {
      "cell_type": "code",
      "metadata": {
        "id": "8FNgk1kZLSnD",
        "colab_type": "code",
        "colab": {}
      },
      "source": [
        "#sudo pip3 install tweepy\n",
        "import tweepy\n",
        "import matplotlib.pyplot as plt\n",
        "from textblob import TextBlob\n",
        "import time"
      ],
      "execution_count": 0,
      "outputs": []
    },
    {
      "cell_type": "code",
      "metadata": {
        "id": "QEx3R7ZaLcyO",
        "colab_type": "code",
        "colab": {}
      },
      "source": [
        "#@title Default title text\n",
        "# all 4 authentication keys to acces API\n",
        "#to connect as 0ath handler or jump server / reverse proxy server\n",
        "consumer_keys='6pbgsEZkjhIv0k09XPnXpfgbW'\n",
        "consumer_sec='po6NAF1jXqIMQgMiWdhSPq50srwE0ksOYyAEOPoMNdp1k8s063'\n",
        "# from proxy server we need to connect  to web server of tweeter\n",
        "access_token='769803334106619904-kPG8pmNg20N9DY5GFV5xbhZbzfeHhIf'\n",
        "access_sec='HQ3agnUvdofsN39mmwCllSJMAFlcrSyzgPJhzFeRNsHaw'\n",
        "\n",
        "\n",
        "\n"
      ],
      "execution_count": 0,
      "outputs": []
    },
    {
      "cell_type": "code",
      "metadata": {
        "id": "0aCu4Le-Rh9D",
        "colab_type": "code",
        "colab": {}
      },
      "source": [
        "#connecting to jump server  on tweeter\n",
        "auth=tweepy.OAuthHandler(consumer_keys,consumer_sec)"
      ],
      "execution_count": 0,
      "outputs": []
    },
    {
      "cell_type": "code",
      "metadata": {
        "id": "BZFpAyw_P_Rf",
        "colab_type": "code",
        "colab": {}
      },
      "source": [
        "\n",
        "\n",
        "\n",
        "#tweepy explore\n",
        "#connecting to jump server od twitter\n",
        "auth.set_access_token(access_token,access_sec)"
      ],
      "execution_count": 0,
      "outputs": []
    },
    {
      "cell_type": "code",
      "metadata": {
        "id": "rBj4yUsmSErB",
        "colab_type": "code",
        "colab": {}
      },
      "source": [
        "#now we can connect to api storage \n",
        "api_connect=tweepy.API(auth)"
      ],
      "execution_count": 0,
      "outputs": []
    },
    {
      "cell_type": "code",
      "metadata": {
        "id": "DiOCkCtBXbMq",
        "colab_type": "code",
        "colab": {}
      },
      "source": [
        "#now you can search any topic on twitter\n",
        "tweet_data=api_connect.search('modi',count=10)+"
      ],
      "execution_count": 0,
      "outputs": []
    },
    {
      "cell_type": "code",
      "metadata": {
        "id": "TR7SRO3HXrJj",
        "colab_type": "code",
        "colab": {
          "base_uri": "https://localhost:8080/",
          "height": 579
        },
        "outputId": "74b2fbde-f7da-4e2c-b853-6b9ad46edb0d"
      },
      "source": [
        "pos=0\n",
        "neu=0\n",
        "neg=0\n",
        "#print line by line\n",
        "for tweet in tweet_data:\n",
        "  #print(tweet.text)\n",
        "  analysis=TextBlob(tweet.text)\n",
        "  print(analysis.sentiment)\n",
        "  #now checking polarity only\n",
        "  if analysis.sentiment.polarity>0:\n",
        "    print(\"positive\")\n",
        "    pos=pos+1\n",
        "  elif analysis.sentiment.polarity==0:\n",
        "    print(\"neutral\")\n",
        "    neu=neu+1\n",
        "  else:\n",
        "    print(\"negative\")\n",
        "    neg=neg+1\n",
        "    \n",
        "    \n",
        "    #plotting graph\n",
        "plt.xlabel(\"tags\")\n",
        "plt.ylabel(\"polarity\")\n",
        "#plt.bar([\"pos\",\"neg\",\"neu\"],[pos,neg,neu])\n",
        "plt.pie([pos,neg,neu],labels=[\"pos\",\"neg\",\"new\"],autopct=\"%1.1f%%\")\n",
        "plt.show()"
      ],
      "execution_count": 37,
      "outputs": [
        {
          "output_type": "stream",
          "text": [
            "Sentiment(polarity=0.0, subjectivity=0.0)\n",
            "neutral\n",
            "Sentiment(polarity=0.125, subjectivity=0.6666666666666666)\n",
            "positive\n",
            "Sentiment(polarity=-1.0, subjectivity=1.0)\n",
            "negative\n",
            "Sentiment(polarity=0.0, subjectivity=0.0)\n",
            "neutral\n",
            "Sentiment(polarity=0.0, subjectivity=0.0)\n",
            "neutral\n",
            "Sentiment(polarity=-0.06296296296296296, subjectivity=0.37777777777777777)\n",
            "negative\n",
            "Sentiment(polarity=0.0, subjectivity=0.0)\n",
            "neutral\n",
            "Sentiment(polarity=0.0, subjectivity=0.0)\n",
            "neutral\n",
            "Sentiment(polarity=0.0, subjectivity=0.0)\n",
            "neutral\n"
          ],
          "name": "stdout"
        },
        {
          "output_type": "display_data",
          "data": {
            "image/png": "[encoded data removed]",
            "text/plain": [
              "<Figure size 432x288 with 1 Axes>"
            ]
          },
          "metadata": {
            "tags": []
          }
        }
      ]
    },
    {
      "cell_type": "code",
      "metadata": {
        "id": "9SFoAmExZfPj",
        "colab_type": "code",
        "colab": {}
      },
      "source": [
        ""
      ],
      "execution_count": 0,
      "outputs": []
    }
  ]
}