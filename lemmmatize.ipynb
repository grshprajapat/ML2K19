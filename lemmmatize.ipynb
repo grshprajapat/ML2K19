{
  "nbformat": 4,
  "nbformat_minor": 0,
  "metadata": {
    "colab": {
      "name": "lemmmatize.ipynb",
      "version": "0.3.2",
      "provenance": [],
      "include_colab_link": true
    },
    "kernelspec": {
      "name": "python3",
      "display_name": "Python 3"
    }
  },
  "cells": [
    {
      "cell_type": "markdown",
      "metadata": {
        "id": "view-in-github",
        "colab_type": "text"
      },
      "source": [
        "<a href=\"https://colab.research.google.com/github/grshprajapat/ML2K19/blob/master/lemmmatize.ipynb\" target=\"_parent\"><img src=\"https://colab.research.google.com/assets/colab-badge.svg\" alt=\"Open In Colab\"/></a>"
      ]
    },
    {
      "cell_type": "code",
      "metadata": {
        "id": "0aTEVyzueZ5g",
        "colab_type": "code",
        "colab": {}
      },
      "source": [
        "import spacy"
      ],
      "execution_count": 0,
      "outputs": []
    },
    {
      "cell_type": "code",
      "metadata": {
        "id": "atnnoxz6ebxA",
        "colab_type": "code",
        "colab": {}
      },
      "source": [
        "#language en ....\n",
        "nlp=spacy.load('en')"
      ],
      "execution_count": 0,
      "outputs": []
    },
    {
      "cell_type": "code",
      "metadata": {
        "id": "WlNuW94vel3e",
        "colab_type": "code",
        "colab": {}
      },
      "source": [
        "data=\"hello world i am going out side for playing cricket\""
      ],
      "execution_count": 0,
      "outputs": []
    },
    {
      "cell_type": "code",
      "metadata": {
        "id": "uheZLPALfde2",
        "colab_type": "code",
        "colab": {}
      },
      "source": [
        "new_data=nlp(data) # automatic tokenize"
      ],
      "execution_count": 0,
      "outputs": []
    },
    {
      "cell_type": "code",
      "metadata": {
        "id": "njhdH1KQfuZx",
        "colab_type": "code",
        "colab": {
          "base_uri": "https://localhost:8080/",
          "height": 538
        },
        "outputId": "8718f142-69ff-458e-a344-315280c88780"
      },
      "source": [
        "for i in new_data:\n",
        "  print(i,\"lemmatization of word is ---->\",i.lemma_)\n",
        "  print(\"####################################################\")\n",
        "  print(i,\"Pos\",i.pos_)"
      ],
      "execution_count": 9,
      "outputs": [
        {
          "output_type": "stream",
          "text": [
            "hello lemmatization of word is ----> hello\n",
            "####################################################\n",
            "hello Pos INTJ\n",
            "world lemmatization of word is ----> world\n",
            "####################################################\n",
            "world Pos NOUN\n",
            "i lemmatization of word is ----> i\n",
            "####################################################\n",
            "i Pos PRON\n",
            "am lemmatization of word is ----> be\n",
            "####################################################\n",
            "am Pos VERB\n",
            "going lemmatization of word is ----> go\n",
            "####################################################\n",
            "going Pos VERB\n",
            "out lemmatization of word is ----> out\n",
            "####################################################\n",
            "out Pos PART\n",
            "side lemmatization of word is ----> side\n",
            "####################################################\n",
            "side Pos NOUN\n",
            "for lemmatization of word is ----> for\n",
            "####################################################\n",
            "for Pos ADP\n",
            "playing lemmatization of word is ----> play\n",
            "####################################################\n",
            "playing Pos VERB\n",
            "cricket lemmatization of word is ----> cricket\n",
            "####################################################\n",
            "cricket Pos NOUN\n"
          ],
          "name": "stdout"
        }
      ]
    },
    {
      "cell_type": "code",
      "metadata": {
        "id": "nDkfccUigAAA",
        "colab_type": "code",
        "colab": {}
      },
      "source": [
        "\n"
      ],
      "execution_count": 0,
      "outputs": []
    }
  ]
}