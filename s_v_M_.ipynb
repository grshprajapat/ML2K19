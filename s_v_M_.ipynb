{
  "nbformat": 4,
  "nbformat_minor": 0,
  "metadata": {
    "colab": {
      "name": "s_v_M_.ipynb",
      "version": "0.3.2",
      "provenance": [],
      "include_colab_link": true
    },
    "kernelspec": {
      "name": "python3",
      "display_name": "Python 3"
    }
  },
  "cells": [
    {
      "cell_type": "markdown",
      "metadata": {
        "id": "view-in-github",
        "colab_type": "text"
      },
      "source": [
        "<a href=\"https://colab.research.google.com/github/grshprajapat/ML2K19/blob/master/s_v_M_.ipynb\" target=\"_parent\"><img src=\"https://colab.research.google.com/assets/colab-badge.svg\" alt=\"Open In Colab\"/></a>"
      ]
    },
    {
      "cell_type": "code",
      "metadata": {
        "id": "na0hLdf0MLyx",
        "colab_type": "code",
        "colab": {}
      },
      "source": [
        "from sklearn.datasets import load_digits"
      ],
      "execution_count": 0,
      "outputs": []
    },
    {
      "cell_type": "code",
      "metadata": {
        "id": "WYjuGtldMZlT",
        "colab_type": "code",
        "colab": {}
      },
      "source": [
        "#loading digit data\n",
        "digit=load_digits()"
      ],
      "execution_count": 0,
      "outputs": []
    },
    {
      "cell_type": "code",
      "metadata": {
        "id": "9HxMez_nMfEE",
        "colab_type": "code",
        "colab": {
          "base_uri": "https://localhost:8080/",
          "height": 34
        },
        "outputId": "b4b4f92b-fc96-495b-aca8-397798ee8b49"
      },
      "source": [
        "# desc\n",
        "dir(digit)"
      ],
      "execution_count": 4,
      "outputs": [
        {
          "output_type": "execute_result",
          "data": {
            "text/plain": [
              "['DESCR', 'data', 'images', 'target', 'target_names']"
            ]
          },
          "metadata": {
            "tags": []
          },
          "execution_count": 4
        }
      ]
    },
    {
      "cell_type": "code",
      "metadata": {
        "id": "KAxfu7NZMnSp",
        "colab_type": "code",
        "colab": {}
      },
      "source": [
        "#feature \n",
        "features=digit.data\n"
      ],
      "execution_count": 0,
      "outputs": []
    },
    {
      "cell_type": "code",
      "metadata": {
        "id": "m_iwhG8FMtN-",
        "colab_type": "code",
        "colab": {}
      },
      "source": [
        "#label\n",
        "label=digit.target"
      ],
      "execution_count": 0,
      "outputs": []
    },
    {
      "cell_type": "code",
      "metadata": {
        "id": "ppoxTlR8Mw68",
        "colab_type": "code",
        "colab": {}
      },
      "source": [
        "#trainning and testing\n",
        "from sklearn.model_selection import train_test_split\n",
        "X,x,Y,y=train_test_split(features,label,test_size=0.2)\n"
      ],
      "execution_count": 0,
      "outputs": []
    },
    {
      "cell_type": "code",
      "metadata": {
        "id": "NHXvOZulNS-P",
        "colab_type": "code",
        "colab": {}
      },
      "source": [
        "#data visulation\n",
        "import matplotlib.pyplot as plt"
      ],
      "execution_count": 0,
      "outputs": []
    },
    {
      "cell_type": "code",
      "metadata": {
        "id": "r8wJbZbJOJz6",
        "colab_type": "code",
        "colab": {
          "base_uri": "https://localhost:8080/",
          "height": 286
        },
        "outputId": "ed476514-ea11-4e25-bbf6-2f439c347e6c"
      },
      "source": [
        "plt.imshow(digit.images[0])"
      ],
      "execution_count": 18,
      "outputs": [
        {
          "output_type": "execute_result",
          "data": {
            "text/plain": [
              "<matplotlib.image.AxesImage at 0x7f664c3a4a90>"
            ]
          },
          "metadata": {
            "tags": []
          },
          "execution_count": 18
        },
        {
          "output_type": "display_data",
          "data": {
            "image/png": "[encoded data removed]",
            "text/plain": [
              "<Figure size 432x288 with 1 Axes>"
            ]
          },
          "metadata": {
            "tags": []
          }
        }
      ]
    },
    {
      "cell_type": "code",
      "metadata": {
        "id": "3546XPgiOOcd",
        "colab_type": "code",
        "colab": {}
      },
      "source": [
        "#calling svc\n",
        "from sklearn.svm import SVC"
      ],
      "execution_count": 0,
      "outputs": []
    },
    {
      "cell_type": "code",
      "metadata": {
        "id": "Ffo8mEcjPCKO",
        "colab_type": "code",
        "colab": {}
      },
      "source": [
        "#calling clf\n",
        "clf=SVC()"
      ],
      "execution_count": 0,
      "outputs": []
    },
    {
      "cell_type": "code",
      "metadata": {
        "id": "VmkzyhjEObyH",
        "colab_type": "code",
        "colab": {
          "base_uri": "https://localhost:8080/",
          "height": 72
        },
        "outputId": "21ba18ea-7764-426e-8069-c95dbb86c7ec"
      },
      "source": [
        "#  now training my clf\n",
        "trained=clf.fit(x,y)"
      ],
      "execution_count": 25,
      "outputs": [
        {
          "output_type": "stream",
          "text": [
            "/usr/local/lib/python3.6/dist-packages/sklearn/svm/base.py:193: FutureWarning: The default value of gamma will change from 'auto' to 'scale' in version 0.22 to account better for unscaled features. Set gamma explicitly to 'auto' or 'scale' to avoid this warning.\n",
            "  \"avoid this warning.\", FutureWarning)\n"
          ],
          "name": "stderr"
        }
      ]
    },
    {
      "cell_type": "code",
      "metadata": {
        "id": "YP3LS0xvPS-q",
        "colab_type": "code",
        "colab": {}
      },
      "source": [
        "#now for predicyt\n",
        "output=trained.predict(x)"
      ],
      "execution_count": 0,
      "outputs": []
    },
    {
      "cell_type": "code",
      "metadata": {
        "id": "C7c85K4KPhyD",
        "colab_type": "code",
        "colab": {
          "base_uri": "https://localhost:8080/",
          "height": 312
        },
        "outputId": "09484b00-153e-4d24-e966-24d489b176b3"
      },
      "source": [
        "output"
      ],
      "execution_count": 26,
      "outputs": [
        {
          "output_type": "execute_result",
          "data": {
            "text/plain": [
              "array([0, 3, 1, 6, 0, 2, 0, 3, 0, 5, 4, 8, 8, 6, 3, 1, 4, 9, 2, 0, 1, 3,\n",
              "       9, 3, 0, 4, 2, 4, 2, 7, 4, 6, 1, 8, 4, 4, 9, 8, 5, 2, 4, 3, 0, 5,\n",
              "       1, 4, 6, 1, 4, 7, 7, 1, 6, 6, 7, 4, 7, 2, 8, 4, 1, 2, 3, 7, 2, 3,\n",
              "       0, 4, 2, 2, 9, 2, 2, 6, 0, 2, 7, 9, 0, 6, 9, 6, 6, 9, 0, 5, 5, 3,\n",
              "       4, 2, 2, 3, 7, 5, 1, 1, 6, 4, 8, 4, 0, 3, 8, 8, 9, 7, 9, 9, 5, 6,\n",
              "       0, 6, 2, 8, 6, 0, 5, 8, 0, 9, 4, 1, 1, 2, 4, 6, 5, 0, 0, 9, 5, 6,\n",
              "       4, 6, 2, 0, 0, 9, 3, 0, 6, 6, 3, 4, 8, 9, 6, 2, 4, 2, 4, 7, 0, 7,\n",
              "       3, 5, 4, 2, 5, 2, 0, 2, 7, 8, 4, 6, 0, 1, 9, 5, 5, 8, 9, 8, 1, 7,\n",
              "       3, 1, 3, 9, 8, 2, 3, 9, 2, 2, 5, 6, 1, 6, 3, 3, 9, 8, 7, 8, 0, 4,\n",
              "       9, 5, 2, 2, 3, 8, 8, 5, 1, 3, 6, 1, 9, 9, 4, 4, 7, 0, 4, 0, 4, 8,\n",
              "       5, 1, 0, 3, 8, 0, 8, 5, 4, 9, 3, 9, 0, 8, 3, 2, 3, 7, 4, 0, 9, 2,\n",
              "       2, 8, 7, 0, 7, 1, 8, 6, 4, 3, 3, 3, 2, 0, 5, 4, 0, 6, 0, 3, 7, 7,\n",
              "       0, 1, 3, 6, 7, 6, 5, 6, 3, 5, 3, 0, 6, 4, 9, 5, 3, 4, 0, 7, 4, 1,\n",
              "       2, 3, 6, 3, 6, 8, 9, 7, 4, 6, 9, 1, 8, 1, 8, 4, 5, 3, 0, 5, 4, 2,\n",
              "       9, 9, 2, 0, 1, 5, 0, 8, 9, 5, 8, 0, 9, 9, 6, 6, 4, 0, 6, 5, 8, 1,\n",
              "       8, 3, 1, 6, 0, 4, 7, 2, 8, 8, 8, 2, 5, 6, 4, 0, 5, 4, 2, 7, 5, 9,\n",
              "       3, 5, 6, 9, 9, 8, 9, 7])"
            ]
          },
          "metadata": {
            "tags": []
          },
          "execution_count": 26
        }
      ]
    },
    {
      "cell_type": "code",
      "metadata": {
        "id": "TOVxit5ZPteJ",
        "colab_type": "code",
        "colab": {}
      },
      "source": [
        "from sklearn.metrics import  accuracy_score"
      ],
      "execution_count": 0,
      "outputs": []
    },
    {
      "cell_type": "code",
      "metadata": {
        "id": "Tm2U4q39Pz52",
        "colab_type": "code",
        "colab": {
          "base_uri": "https://localhost:8080/",
          "height": 34
        },
        "outputId": "630a12b4-c2ce-4c26-9799-96bcdbffecb0"
      },
      "source": [
        "accuracy_score(output,y)"
      ],
      "execution_count": 28,
      "outputs": [
        {
          "output_type": "execute_result",
          "data": {
            "text/plain": [
              "1.0"
            ]
          },
          "metadata": {
            "tags": []
          },
          "execution_count": 28
        }
      ]
    },
    {
      "cell_type": "code",
      "metadata": {
        "id": "ZvujIjTFP6n_",
        "colab_type": "code",
        "colab": {}
      },
      "source": [
        ""
      ],
      "execution_count": 0,
      "outputs": []
    }
  ]
}